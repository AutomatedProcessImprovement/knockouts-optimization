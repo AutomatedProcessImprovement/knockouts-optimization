{
 "cells": [
  {
   "cell_type": "code",
   "execution_count": null,
   "metadata": {
    "collapsed": true,
    "pycharm": {
     "is_executing": true
    }
   },
   "outputs": [],
   "source": [
    "import pprint\n",
    "from copy import deepcopy\n",
    "import pandas as pd\n",
    "import numpy as np\n",
    "from known_ko_utils import *\n",
    "\n",
    "from IPython.display import display\n",
    "\n",
    "import pm4py\n",
    "from pm4py.algo.filtering.log.start_activities import start_activities_filter\n",
    "from pm4py.algo.filtering.pandas.end_activities import end_activities_filter\n",
    "\n",
    "pd.set_option('display.float_format', lambda x: '%.2f' % x)\n",
    "\n",
    "\n",
    "# Detect which rejected cases were knockouts;\n",
    "# With known \"negative end\":\n",
    "\"\"\"\n",
    "for every case:\n",
    "    if eventually_follows(start, negative_end):\n",
    "        case <- Knockout\n",
    "        for every activity in case:\n",
    "            if directly_follows(activity, negative_end):\n",
    "                activity <- Knockout\n",
    "\"\"\"\n",
    "# With unknown \"negative end\":\n",
    "# maybe look at the next-to-last activity of completed cases?\n",
    "# if any case did not have that activity & ended in rejection -> knockout"
   ]
  },
  {
   "cell_type": "code",
   "execution_count": null,
   "outputs": [],
   "source": [
    "log_df, config = preprocess(config_file=\"./config/consulta.yml\")\n",
    "pprint.pprint(set(log_df['task']))"
   ],
   "metadata": {
    "collapsed": false,
    "pycharm": {
     "name": "#%%\n"
    }
   }
  },
  {
   "cell_type": "code",
   "execution_count": null,
   "outputs": [],
   "source": [
    "# Find start/end activities & define \"negative\" end activity\n",
    "\n",
    "df = pm4py.format_dataframe(log_df, case_id='caseid', activity_key='task', timestamp_key='end_timestamp', start_timestamp_key=\"start_timestamp\")\n",
    "\n",
    "# TODO: some issue with start filter...\n",
    "#start_activities = start_activities_filter.get_start_activities(df)\n",
    "top_start_activity = \"Traer informacion estudiante - banner\" #list(start_activities.keys())[0]\n",
    "#filtered_log_st = start_activities_filter.apply(df, [top_start_activity])\n",
    "\n",
    "end_activities = end_activities_filter.get_end_activities(df)\n",
    "top_end_activity = \"Cancelar Solicitud\"\n",
    "#top_end_activity = list(end_activities.keys())[0] # \"Cancelar Solicitud\"\n",
    "filtered_log_end = end_activities_filter.apply(df, [top_end_activity])\n",
    "\n",
    "#display(filtered_log_st.info())\n",
    "#display(filtered_log_end.info())"
   ],
   "metadata": {
    "collapsed": false,
    "pycharm": {
     "name": "#%%\n"
    }
   }
  },
  {
   "cell_type": "code",
   "execution_count": null,
   "outputs": [],
   "source": [
    "# Eventually/Directly-follows experiments\n",
    "\n",
    "rejected = pm4py.filter_eventually_follows_relation(df, [(top_start_activity, top_end_activity)])\n",
    "rejected = pm4py.convert_to_dataframe(rejected)\n",
    "\n",
    "# Mark Knocked-out cases & their knock-out activity (simple: next-to-last)\n",
    "log_df['knocked_out_case'] = False\n",
    "log_df['knockout_activity'] = False\n",
    "log_df['knockout_prefix'] = None\n",
    "\n",
    "gr = rejected.groupby('case:concept:name')\n",
    "for group in gr.groups.keys():\n",
    "    case_df = gr.get_group(group)\n",
    "    sorted_case = case_df.sort_values(\"start_timestamp\")\n",
    "    knockout_activity = sorted_case.iloc[-3]['concept:name']\n",
    "    log_df.loc[log_df['caseid']==group, 'knocked_out_case'] = True\n",
    "    log_df.loc[log_df['caseid']==group, 'knockout_activity'] = knockout_activity\n",
    "    log_df.loc[log_df['caseid']==group, 'knockout_prefix'] = repr(case_df['concept:name'].values)\n",
    "    log_df.loc[log_df['caseid']==group, 'knockout_prefix_length'] = len(case_df['concept:name'].values)\n",
    "    # TODO: maybe also capture the \"decision path\" that led to knock-out?\n",
    "    # TODO: fix prefix notion, until when to count?\n",
    "    # TODO: capture data / stats about case attributes here?\n",
    "\n",
    "#display(log_df.head())\n",
    "display(log_df[log_df['knocked_out_case']==True].head())\n",
    "\n",
    "log_df.to_pickle(\"./cache/consulta_with_knockouts.pkl\")"
   ],
   "metadata": {
    "collapsed": false,
    "pycharm": {
     "name": "#%%\n"
    }
   }
  },
  {
   "cell_type": "code",
   "execution_count": null,
   "outputs": [],
   "source": [
    "# Experiments with RIPPER algorithm\n",
    "import wittgenstein as lw\n",
    "from sklearn.model_selection import train_test_split\n",
    "from sklearn.metrics import precision_score, recall_score\n",
    "import seaborn as sns\n",
    "import matplotlib.pyplot as plt\n",
    "\n",
    "by_case = pd.read_pickle(\"./cache/consulta_intercase_and_kproto_by_case\")\n",
    "by_case = by_case.drop(columns='k_proto_cluster')\n",
    "\n",
    "full = pd.read_pickle(\"./cache/consulta_with_knockouts.pkl\")\n",
    "full = full[['caseid', 'knocked_out_case', 'knockout_activity']]\n",
    "\n",
    "by_case = by_case.merge(full, on=\"caseid\", how=\"left\")\n",
    "\n",
    "for_plot = by_case[by_case['knockout_activity']!=False]\n",
    "sns.set(rc={'figure.facecolor':'white'})\n",
    "ax = sns.countplot(y=for_plot['knockout_activity'],\n",
    "                   order=for_plot['knockout_activity'].value_counts(ascending=False).index);\n",
    "abs_values = for_plot['knockout_activity'].value_counts(ascending=False).values\n",
    "ax.bar_label(label_type=\"center\",  container=ax.containers[0], labels=abs_values)\n",
    "pass"
   ],
   "metadata": {
    "collapsed": false,
    "pycharm": {
     "name": "#%%\n"
    }
   }
  },
  {
   "cell_type": "code",
   "execution_count": null,
   "outputs": [],
   "source": [
    "ko_activities = set(by_case['knockout_activity'])\n",
    "\n",
    "for activity in ko_activities:\n",
    "    if not activity:\n",
    "        continue\n",
    "\n",
    "    # Keep only cases knocked out by current activity and non-knocked out ones\n",
    "    _by_case = by_case[by_case['knockout_activity'].isin([activity, False])]\n",
    "\n",
    "    try:\n",
    "        train, test = train_test_split(_by_case.drop(columns=['knockout_activity', 'caseid', 'user']), test_size=.33, random_state=42)\n",
    "\n",
    "        ripper_clf = lw.RIPPER(random_state=42, max_rules=5)\n",
    "        ripper_clf.fit(train, class_feat='knocked_out_case')\n",
    "\n",
    "        # Visualize Rules\n",
    "        print(f\"\\n\\n** RIPPER knock-out rules for the activity \\\"{activity}\\\":\\n\")\n",
    "        ripper_clf.out_model()\n",
    "\n",
    "        # Performance metrics\n",
    "        # TODO:skip rule display if problematic & report\n",
    "        X_test = test.drop(['knocked_out_case'], axis=1)\n",
    "        y_test = test['knocked_out_case']\n",
    "        precision = ripper_clf.score(X_test, y_test, precision_score)\n",
    "        recall = ripper_clf.score(X_test, y_test, recall_score)\n",
    "        cond_count = ripper_clf.ruleset_.count_conds()\n",
    "\n",
    "        print(f'precision: {precision:.2f}, recall: {recall:.2f}, conds: {cond_count}')\n",
    "\n",
    "    except:\n",
    "        continue"
   ],
   "metadata": {
    "collapsed": false,
    "pycharm": {
     "name": "#%%\n"
    }
   }
  }
 ],
 "metadata": {
  "kernelspec": {
   "name": "pycharm-819f7d14",
   "language": "python",
   "display_name": "PyCharm (code)"
  },
  "language_info": {
   "codemirror_mode": {
    "name": "ipython",
    "version": 2
   },
   "file_extension": ".py",
   "mimetype": "text/x-python",
   "name": "python",
   "nbconvert_exporter": "python",
   "pygments_lexer": "ipython2",
   "version": "2.7.6"
  }
 },
 "nbformat": 4,
 "nbformat_minor": 0
}